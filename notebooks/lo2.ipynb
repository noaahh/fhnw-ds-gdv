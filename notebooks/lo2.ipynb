{
 "cells": [
  {
   "cell_type": "code",
   "execution_count": null,
   "metadata": {},
   "outputs": [],
   "source": [
    "import matplotlib.pyplot as plt\n",
    "import seaborn as sns\n",
    "import numpy as np\n",
    "\n",
    "%config InlineBackend.figure_format = 'retina'  # for better quality plots"
   ]
  },
  {
   "cell_type": "code",
   "execution_count": null,
   "metadata": {},
   "outputs": [],
   "source": [
    "import util as util\n",
    "df = util.load_data()"
   ]
  },
  {
   "cell_type": "markdown",
   "metadata": {},
   "source": [
    "# LO2: Visual Perception"
   ]
  },
  {
   "cell_type": "code",
   "execution_count": null,
   "metadata": {},
   "outputs": [],
   "source": [
    "def plot_scatter(data, year):\n",
    "    data_year = data[data['year'] == year]\n",
    "    plt.figure(figsize=(12, 8))\n",
    "    sns.scatterplot(x='gdp_cap', y='life_exp', size='population', hue='continent',\n",
    "                    sizes=(20, 200), data=data_year, alpha=0.7)\n",
    "    plt.title(f'Life Expectancy vs. GDP per Capita in {year}')\n",
    "    plt.xlabel('GDP per Capita')\n",
    "    plt.ylabel('Life Expectancy')\n",
    "    plt.legend(bbox_to_anchor=(1.05, 1), loc=2)\n",
    "\n",
    "    util.save_plot(plt, f'lo2_life_exp_vs_gdp_cap_{year}')\n",
    "    plt.show()\n",
    "\n",
    "plot_scatter(df, 2007)"
   ]
  },
  {
   "cell_type": "code",
   "execution_count": null,
   "metadata": {},
   "outputs": [],
   "source": [
    "import geopandas as gpd\n",
    "\n",
    "def plot_map_highlight_countries(data, year, countries_to_highlight):\n",
    "    world = gpd.read_file(gpd.datasets.get_path('naturalearth_lowres'))\n",
    "    data_year = data[data['year'] == year]\n",
    "    world_map = world.merge(data_year, left_on='name', right_on='country', how='left')\n",
    "    plt.figure(figsize=(15, 10))\n",
    "    ax = plt.gca()\n",
    "    world_map.plot(ax=ax, color='lightgrey', edgecolor='black')\n",
    "    world_map[world_map['country'].isin(countries_to_highlight)].plot(ax=ax, color='blue', edgecolor='black')\n",
    "    plt.title(f'World Map Highlighting Specific Countries in {year}')\n",
    "    plt.xlabel('Longitude')\n",
    "    plt.ylabel('Latitude')\n",
    "\n",
    "    util.save_plot(plt, f'lo2_world_map_highlight_countries_{year}')\n",
    "    plt.show()\n",
    "\n",
    "highlighted_countries = ['India', 'China', 'United States', 'Brazil', 'South Africa']\n",
    "plot_map_highlight_countries(df, 2007, highlighted_countries)"
   ]
  },
  {
   "cell_type": "code",
   "execution_count": null,
   "metadata": {},
   "outputs": [],
   "source": [
    "def plot_line_with_gaps_india(data, country):\n",
    "    data_country = data[data['country'] == country]\n",
    "    data_country_with_gaps = data_country.copy()\n",
    "    data_country_with_gaps.loc[data_country_with_gaps['year'].isin([1960, 1970, 1980, 1990, 2000]), 'life_exp'] = np.nan\n",
    "    plt.figure(figsize=(12, 8))\n",
    "    sns.lineplot(x='year', y='life_exp', data=data_country_with_gaps, marker='o')\n",
    "    plt.title(f'Life Expectancy Over Time for {country} with Intentional Gaps')\n",
    "    plt.xlabel('Year')\n",
    "    plt.ylabel('Life Expectancy')\n",
    "\n",
    "    util.save_plot(plt, f'lo2_life_exp_over_time_with_gaps_{country}')\n",
    "    plt.show()\n",
    "\n",
    "plot_line_with_gaps_india(df, 'India')"
   ]
  }
 ],
 "metadata": {
  "kernelspec": {
   "display_name": ".venv",
   "language": "python",
   "name": "python3"
  },
  "language_info": {
   "codemirror_mode": {
    "name": "ipython",
    "version": 3
   },
   "file_extension": ".py",
   "mimetype": "text/x-python",
   "name": "python",
   "nbconvert_exporter": "python",
   "pygments_lexer": "ipython3",
   "version": "3.12.0"
  }
 },
 "nbformat": 4,
 "nbformat_minor": 2
}
