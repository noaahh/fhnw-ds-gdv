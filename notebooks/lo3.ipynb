{
 "cells": [
  {
   "cell_type": "code",
   "execution_count": null,
   "metadata": {},
   "outputs": [],
   "source": [
    "import matplotlib.pyplot as plt\n",
    "import seaborn as sns\n",
    "import numpy as np\n",
    "\n",
    "%config InlineBackend.figure_format = 'retina'  # for better quality plots"
   ]
  },
  {
   "cell_type": "code",
   "execution_count": null,
   "metadata": {},
   "outputs": [],
   "source": [
    "import util as util\n",
    "df = util.load_data()"
   ]
  },
  {
   "cell_type": "markdown",
   "metadata": {},
   "source": [
    "# LO3: Design Principles vs. Data"
   ]
  },
  {
   "cell_type": "code",
   "execution_count": null,
   "metadata": {},
   "outputs": [],
   "source": [
    "plt.figure(figsize=(10, 6))\n",
    "\n",
    "\n",
    "sns.scatterplot(data=df[df['year'] == 2007], \n",
    "                x=\"gdp_cap\", y=\"life_exp\", hue=\"continent\", size=\"population\", \n",
    "                sizes=(20, 200), alpha=0.7, palette=\"Set1\")\n",
    "plt.xscale('log')\n",
    "plt.xlabel(\"GDP per Capita (log scale)\")\n",
    "plt.ylabel(\"Life Expectancy\")\n",
    "plt.title(\"Scatter Plot of Life Expectancy vs. GDP per Capita (2007)\")\n",
    "plt.legend(loc='upper left', title=\"Continent\", labelspacing=1.5)\n",
    "plt.grid(True)\n",
    "\n",
    "util.save_plot(plt, 'lo3_scatterplot')\n",
    "plt.show()"
   ]
  },
  {
   "cell_type": "code",
   "execution_count": null,
   "metadata": {},
   "outputs": [],
   "source": [
    "plt.figure(figsize=(10, 6))\n",
    "\n",
    "\n",
    "sns.scatterplot(data=df[df['year'] == 2007], \n",
    "                x=\"gdp_cap\", y=\"life_exp\", hue=\"continent\", size=\"population\", \n",
    "                sizes=(20, 200), alpha=0.7, palette=\"Set1\")\n",
    "plt.xscale('log')\n",
    "plt.xlabel(\"GDP per Capita (log scale)\")\n",
    "plt.ylabel(\"Life Expectancy\")\n",
    "plt.title(\"Scatter Plot of Life Expectancy vs. GDP per Capita (2007)\")\n",
    "plt.legend(loc='upper left', title=\"Continent\", labelspacing=1.5)\n",
    "plt.grid(True)\n",
    "\n",
    "util.save_plot(plt, 'lo3_scatterplot')\n",
    "plt.show()"
   ]
  },
  {
   "cell_type": "code",
   "execution_count": null,
   "metadata": {},
   "outputs": [],
   "source": [
    "plt.figure(figsize=(10, 6))\n",
    "continent_population = df[df['year'] == 2007].groupby('continent')['population'].sum()\n",
    "continent_population.plot(kind='bar', color='skyblue')\n",
    "plt.xlabel(\"Continent\")\n",
    "plt.ylabel(\"Total Population\")\n",
    "plt.title(\"Population Distribution by Continent (2007)\")\n",
    "plt.xticks(rotation=45)\n",
    "plt.grid(axis='y')\n",
    "\n",
    "util.save_plot(plt, 'lo3_barplot')\n",
    "plt.show()"
   ]
  },
  {
   "cell_type": "code",
   "execution_count": null,
   "metadata": {},
   "outputs": [],
   "source": [
    "# range of gdp per capita\n",
    "gdp_cap_range = df[df['year'] == 2007]['gdp_cap'].max() - df[df['year'] == 2007]['gdp_cap'].min()\n",
    "print(\"Range of GDP per Capita: {:.2f}\".format(gdp_cap_range))"
   ]
  }
 ],
 "metadata": {
  "kernelspec": {
   "display_name": ".venv",
   "language": "python",
   "name": "python3"
  },
  "language_info": {
   "codemirror_mode": {
    "name": "ipython",
    "version": 3
   },
   "file_extension": ".py",
   "mimetype": "text/x-python",
   "name": "python",
   "nbconvert_exporter": "python",
   "pygments_lexer": "ipython3",
   "version": "3.12.0"
  }
 },
 "nbformat": 4,
 "nbformat_minor": 2
}
