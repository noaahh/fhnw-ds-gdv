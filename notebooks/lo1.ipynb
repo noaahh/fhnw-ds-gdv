{
 "cells": [
  {
   "cell_type": "code",
   "execution_count": null,
   "metadata": {},
   "outputs": [],
   "source": [
    "import pandas as pd\n",
    "import matplotlib.pyplot as plt\n",
    "import seaborn as sns\n",
    "\n",
    "%config InlineBackend.figure_format = 'retina'  # for better quality plots"
   ]
  },
  {
   "cell_type": "code",
   "execution_count": null,
   "metadata": {},
   "outputs": [],
   "source": [
    "import util as util\n",
    "df = util.load_data()"
   ]
  },
  {
   "cell_type": "markdown",
   "metadata": {},
   "source": [
    "# LO1"
   ]
  },
  {
   "cell_type": "code",
   "execution_count": null,
   "metadata": {},
   "outputs": [],
   "source": [
    "japan_data = df[df['country'] == 'Japan']\n",
    "data_2007 = df[df['year'] == 2007]"
   ]
  },
  {
   "cell_type": "code",
   "execution_count": null,
   "metadata": {},
   "outputs": [],
   "source": [
    "plt.figure(figsize=(10, 6))\n",
    "plot_good1 = sns.lineplot(x='year', y='life_exp', data=japan_data)\n",
    "util.format_plot(plot_good1, 'Life Expectancy in Japan Over Time', 'Year', 'Life Expectancy')\n",
    "plt.show()\n",
    "\n",
    "util.save_plot(plot_good1, \"lo1_good_example_life_expectancy_japan\")"
   ]
  },
  {
   "cell_type": "code",
   "execution_count": null,
   "metadata": {},
   "outputs": [],
   "source": [
    "# Example 2: Pie Chart - Bad Example\n",
    "plt.figure(figsize=(8, 8))\n",
    "plot_bad1 = plt.pie(df[df['year'] == 2007].groupby('continent')['population'].sum(), labels=df[df['year'] == 2007]['continent'].unique(), autopct='%1.1f%%')\n",
    "plt.title('Continent-wise Population Distribution in 2007')\n",
    "util.save_plot(plot_bad1, \"lo1_bad_example_population_distribution_2007\")"
   ]
  },
  {
   "cell_type": "code",
   "execution_count": null,
   "metadata": {},
   "outputs": [],
   "source": [
    "# Example 3: Bar Chart - Good Example\n",
    "plt.figure(figsize=(15, 10))\n",
    "plot_good2 = sns.barplot(x='gdp_cap', y='country', data=data_2007.nlargest(10, 'gdp_cap'))\n",
    "util.format_plot(plot_good2, 'Top 10 Countries by GDP per Capita in 2007', 'GDP per Capita', 'Country')\n",
    "util.save_plot(plot_good2, \"lo1_good_example_top10_gdp_2007\")"
   ]
  },
  {
   "cell_type": "code",
   "execution_count": null,
   "metadata": {},
   "outputs": [],
   "source": [
    "# Example 4: Boxplot - Good Example\n",
    "plt.figure(figsize=(12, 8))\n",
    "plot_good3 = sns.boxplot(x='continent', y='life_exp', data=df[df['year'] == 2007])\n",
    "util.format_plot(plot_good3, 'Distribution of Life Expectancy Across Continents in 2007', 'Continent', 'Life Expectancy')\n",
    "util.save_plot(plot_good3, \"lo1_good_example_life_exp_boxplot\")"
   ]
  },
  {
   "cell_type": "code",
   "execution_count": null,
   "metadata": {},
   "outputs": [],
   "source": [
    "plt.figure(figsize=(12, 8))\n",
    "plot_good4 = sns.scatterplot(x='gdp_cap', y='life_exp', size='population', hue='continent', data=df[df['year'] == 2007], sizes=(20, 2000), alpha=0.7)\n",
    "\n",
    "util.format_plot(plot_good4, 'Bubble Chart of GDP, Life Expectancy, and Population in 2007', 'GDP per Capita', 'Life Expectancy')\n",
    "util.save_plot(plot_good4, \"lo1_good_example_bubble_chart\")"
   ]
  }
 ],
 "metadata": {
  "kernelspec": {
   "display_name": ".venv",
   "language": "python",
   "name": "python3"
  },
  "language_info": {
   "codemirror_mode": {
    "name": "ipython",
    "version": 3
   },
   "file_extension": ".py",
   "mimetype": "text/x-python",
   "name": "python",
   "nbconvert_exporter": "python",
   "pygments_lexer": "ipython3",
   "version": "3.12.0"
  }
 },
 "nbformat": 4,
 "nbformat_minor": 2
}
